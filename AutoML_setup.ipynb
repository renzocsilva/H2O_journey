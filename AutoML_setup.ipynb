{
 "metadata": {
  "language_info": {
   "codemirror_mode": {
    "name": "ipython",
    "version": 3
   },
   "file_extension": ".py",
   "mimetype": "text/x-python",
   "name": "python",
   "nbconvert_exporter": "python",
   "pygments_lexer": "ipython3",
   "version": "3.8.5-final"
  },
  "orig_nbformat": 2,
  "kernelspec": {
   "name": "python_defaultSpec_1600314254530",
   "display_name": "Python 3.8.5 32-bit"
  }
 },
 "nbformat": 4,
 "nbformat_minor": 2,
 "cells": [
  {
   "source": [
    "In this short notebook, an H2O AutoML workflow is exemplified. "
   ],
   "cell_type": "markdown",
   "metadata": {}
  },
  {
   "cell_type": "code",
   "execution_count": 1,
   "metadata": {
    "tags": []
   },
   "outputs": [
    {
     "output_type": "stream",
     "name": "stdout",
     "text": "Checking whether there is an H2O instance running at http://localhost:54321..... not found.\nAttempting to start a local H2O server...\n; Java HotSpot(TM) Client VM (build 25.261-b12, mixed mode, sharing)\n  Starting server from C:\\Users\\Renzo\\AppData\\Local\\Programs\\Python\\Python38-32\\Lib\\site-packages\\h2o\\backend\\bin\\h2o.jar\n  Ice root: C:\\Users\\Renzo\\AppData\\Local\\Temp\\tmpjih69mje\n  JVM stdout: C:\\Users\\Renzo\\AppData\\Local\\Temp\\tmpjih69mje\\h2o_Renzo_started_from_python.out\n  JVM stderr: C:\\Users\\Renzo\\AppData\\Local\\Temp\\tmpjih69mje\\h2o_Renzo_started_from_python.err\n  Server is running at http://127.0.0.1:54321\nConnecting to H2O server at http://127.0.0.1:54321 ... successful.\n"
    },
    {
     "output_type": "display_data",
     "data": {
      "text/plain": "--------------------------  ---------------------------------------------------------\nH2O_cluster_uptime:         05 secs\nH2O_cluster_timezone:       America/Denver\nH2O_data_parsing_timezone:  UTC\nH2O_cluster_version:        3.30.1.2\nH2O_cluster_version_age:    13 days\nH2O_cluster_name:           H2O_from_python_Renzo_iu41k1\nH2O_cluster_total_nodes:    1\nH2O_cluster_free_memory:    247.5 Mb\nH2O_cluster_total_cores:    8\nH2O_cluster_allowed_cores:  8\nH2O_cluster_status:         accepting new members, healthy\nH2O_connection_url:         http://127.0.0.1:54321\nH2O_connection_proxy:       {\"http\": null, \"https\": null}\nH2O_internal_security:      False\nH2O_API_Extensions:         Amazon S3, Algos, AutoML, Core V3, TargetEncoder, Core V4\nPython_version:             3.8.5 final\n--------------------------  ---------------------------------------------------------",
      "text/html": "<div style=\"overflow:auto\"><table style=\"width:50%\"><tr><td>H2O_cluster_uptime:</td>\n<td>05 secs</td></tr>\n<tr><td>H2O_cluster_timezone:</td>\n<td>America/Denver</td></tr>\n<tr><td>H2O_data_parsing_timezone:</td>\n<td>UTC</td></tr>\n<tr><td>H2O_cluster_version:</td>\n<td>3.30.1.2</td></tr>\n<tr><td>H2O_cluster_version_age:</td>\n<td>13 days </td></tr>\n<tr><td>H2O_cluster_name:</td>\n<td>H2O_from_python_Renzo_iu41k1</td></tr>\n<tr><td>H2O_cluster_total_nodes:</td>\n<td>1</td></tr>\n<tr><td>H2O_cluster_free_memory:</td>\n<td>247.5 Mb</td></tr>\n<tr><td>H2O_cluster_total_cores:</td>\n<td>8</td></tr>\n<tr><td>H2O_cluster_allowed_cores:</td>\n<td>8</td></tr>\n<tr><td>H2O_cluster_status:</td>\n<td>accepting new members, healthy</td></tr>\n<tr><td>H2O_connection_url:</td>\n<td>http://127.0.0.1:54321</td></tr>\n<tr><td>H2O_connection_proxy:</td>\n<td>{\"http\": null, \"https\": null}</td></tr>\n<tr><td>H2O_internal_security:</td>\n<td>False</td></tr>\n<tr><td>H2O_API_Extensions:</td>\n<td>Amazon S3, Algos, AutoML, Core V3, TargetEncoder, Core V4</td></tr>\n<tr><td>Python_version:</td>\n<td>3.8.5 final</td></tr></table></div>"
     },
     "metadata": {}
    }
   ],
   "source": [
    "import h2o\n",
    "from h2o.automl import H2OAutoML\n",
    "h2o.init()"
   ]
  },
  {
   "cell_type": "code",
   "execution_count": 2,
   "metadata": {
    "tags": []
   },
   "outputs": [
    {
     "output_type": "stream",
     "name": "stdout",
     "text": "Parse progress: |█████████████████████████████████████████████████████████| 100%\n"
    },
    {
     "output_type": "display_data",
     "data": {
      "text/html": "<table>\n<thead>\n<tr><th style=\"text-align: right;\">        sku</th><th style=\"text-align: right;\">  national_inv</th><th style=\"text-align: right;\">  lead_time</th><th style=\"text-align: right;\">  in_transit_qty</th><th style=\"text-align: right;\">  forecast_3_month</th><th style=\"text-align: right;\">  forecast_6_month</th><th style=\"text-align: right;\">  forecast_9_month</th><th style=\"text-align: right;\">  sales_1_month</th><th style=\"text-align: right;\">  sales_3_month</th><th style=\"text-align: right;\">  sales_6_month</th><th style=\"text-align: right;\">  sales_9_month</th><th style=\"text-align: right;\">  min_bank</th><th>potential_issue  </th><th style=\"text-align: right;\">  pieces_past_due</th><th style=\"text-align: right;\">  perf_6_month_avg</th><th style=\"text-align: right;\">  perf_12_month_avg</th><th style=\"text-align: right;\">  local_bo_qty</th><th>deck_risk  </th><th>oe_constraint  </th><th>ppap_risk  </th><th>stop_auto_buy  </th><th>rev_stop  </th><th>went_on_backorder  </th></tr>\n</thead>\n<tbody>\n<tr><td style=\"text-align: right;\">1.11312e+06</td><td style=\"text-align: right;\">             0</td><td style=\"text-align: right;\">          8</td><td style=\"text-align: right;\">               1</td><td style=\"text-align: right;\">                 6</td><td style=\"text-align: right;\">                 6</td><td style=\"text-align: right;\">                 6</td><td style=\"text-align: right;\">              0</td><td style=\"text-align: right;\">              4</td><td style=\"text-align: right;\">              9</td><td style=\"text-align: right;\">             12</td><td style=\"text-align: right;\">         0</td><td>No               </td><td style=\"text-align: right;\">                1</td><td style=\"text-align: right;\">              0.9 </td><td style=\"text-align: right;\">               0.89</td><td style=\"text-align: right;\">             0</td><td>No         </td><td>No             </td><td>No         </td><td>Yes            </td><td>No        </td><td>Yes                </td></tr>\n<tr><td style=\"text-align: right;\">1.11327e+06</td><td style=\"text-align: right;\">             0</td><td style=\"text-align: right;\">          8</td><td style=\"text-align: right;\">               0</td><td style=\"text-align: right;\">                 2</td><td style=\"text-align: right;\">                 3</td><td style=\"text-align: right;\">                 4</td><td style=\"text-align: right;\">              1</td><td style=\"text-align: right;\">              2</td><td style=\"text-align: right;\">              3</td><td style=\"text-align: right;\">              3</td><td style=\"text-align: right;\">         0</td><td>No               </td><td style=\"text-align: right;\">                0</td><td style=\"text-align: right;\">              0.96</td><td style=\"text-align: right;\">               0.97</td><td style=\"text-align: right;\">             0</td><td>No         </td><td>No             </td><td>No         </td><td>Yes            </td><td>No        </td><td>Yes                </td></tr>\n<tr><td style=\"text-align: right;\">1.11387e+06</td><td style=\"text-align: right;\">            20</td><td style=\"text-align: right;\">          2</td><td style=\"text-align: right;\">               0</td><td style=\"text-align: right;\">                45</td><td style=\"text-align: right;\">                99</td><td style=\"text-align: right;\">               153</td><td style=\"text-align: right;\">             16</td><td style=\"text-align: right;\">             42</td><td style=\"text-align: right;\">             80</td><td style=\"text-align: right;\">            111</td><td style=\"text-align: right;\">        10</td><td>No               </td><td style=\"text-align: right;\">                0</td><td style=\"text-align: right;\">              0.81</td><td style=\"text-align: right;\">               0.88</td><td style=\"text-align: right;\">             0</td><td>No         </td><td>No             </td><td>No         </td><td>Yes            </td><td>No        </td><td>Yes                </td></tr>\n<tr><td style=\"text-align: right;\">1.11422e+06</td><td style=\"text-align: right;\">             0</td><td style=\"text-align: right;\">          8</td><td style=\"text-align: right;\">               0</td><td style=\"text-align: right;\">                 9</td><td style=\"text-align: right;\">                14</td><td style=\"text-align: right;\">                21</td><td style=\"text-align: right;\">              5</td><td style=\"text-align: right;\">             17</td><td style=\"text-align: right;\">             36</td><td style=\"text-align: right;\">             43</td><td style=\"text-align: right;\">         0</td><td>No               </td><td style=\"text-align: right;\">                0</td><td style=\"text-align: right;\">              0.96</td><td style=\"text-align: right;\">               0.98</td><td style=\"text-align: right;\">             0</td><td>No         </td><td>No             </td><td>No         </td><td>Yes            </td><td>No        </td><td>Yes                </td></tr>\n<tr><td style=\"text-align: right;\">1.11482e+06</td><td style=\"text-align: right;\">             0</td><td style=\"text-align: right;\">         12</td><td style=\"text-align: right;\">               0</td><td style=\"text-align: right;\">                31</td><td style=\"text-align: right;\">                31</td><td style=\"text-align: right;\">                31</td><td style=\"text-align: right;\">              7</td><td style=\"text-align: right;\">             15</td><td style=\"text-align: right;\">             33</td><td style=\"text-align: right;\">             47</td><td style=\"text-align: right;\">         2</td><td>No               </td><td style=\"text-align: right;\">                3</td><td style=\"text-align: right;\">              0.98</td><td style=\"text-align: right;\">               0.98</td><td style=\"text-align: right;\">             0</td><td>No         </td><td>No             </td><td>No         </td><td>Yes            </td><td>No        </td><td>Yes                </td></tr>\n<tr><td style=\"text-align: right;\">1.11545e+06</td><td style=\"text-align: right;\">            55</td><td style=\"text-align: right;\">          8</td><td style=\"text-align: right;\">               0</td><td style=\"text-align: right;\">               216</td><td style=\"text-align: right;\">               360</td><td style=\"text-align: right;\">               492</td><td style=\"text-align: right;\">             30</td><td style=\"text-align: right;\">            108</td><td style=\"text-align: right;\">            275</td><td style=\"text-align: right;\">            340</td><td style=\"text-align: right;\">        51</td><td>No               </td><td style=\"text-align: right;\">                0</td><td style=\"text-align: right;\">              0   </td><td style=\"text-align: right;\">               0   </td><td style=\"text-align: right;\">             0</td><td>No         </td><td>No             </td><td>Yes        </td><td>Yes            </td><td>No        </td><td>Yes                </td></tr>\n<tr><td style=\"text-align: right;\">1.11562e+06</td><td style=\"text-align: right;\">           -34</td><td style=\"text-align: right;\">          8</td><td style=\"text-align: right;\">               0</td><td style=\"text-align: right;\">               120</td><td style=\"text-align: right;\">               240</td><td style=\"text-align: right;\">               240</td><td style=\"text-align: right;\">             83</td><td style=\"text-align: right;\">            122</td><td style=\"text-align: right;\">            144</td><td style=\"text-align: right;\">            165</td><td style=\"text-align: right;\">        33</td><td>No               </td><td style=\"text-align: right;\">                0</td><td style=\"text-align: right;\">              1   </td><td style=\"text-align: right;\">               0.97</td><td style=\"text-align: right;\">            34</td><td>No         </td><td>No             </td><td>No         </td><td>Yes            </td><td>No        </td><td>Yes                </td></tr>\n<tr><td style=\"text-align: right;\">1.11645e+06</td><td style=\"text-align: right;\">             4</td><td style=\"text-align: right;\">          9</td><td style=\"text-align: right;\">               0</td><td style=\"text-align: right;\">                43</td><td style=\"text-align: right;\">                67</td><td style=\"text-align: right;\">               115</td><td style=\"text-align: right;\">              5</td><td style=\"text-align: right;\">             22</td><td style=\"text-align: right;\">             40</td><td style=\"text-align: right;\">             58</td><td style=\"text-align: right;\">         4</td><td>No               </td><td style=\"text-align: right;\">                0</td><td style=\"text-align: right;\">              0.69</td><td style=\"text-align: right;\">               0.68</td><td style=\"text-align: right;\">             0</td><td>No         </td><td>No             </td><td>No         </td><td>Yes            </td><td>No        </td><td>Yes                </td></tr>\n<tr><td style=\"text-align: right;\">1.11683e+06</td><td style=\"text-align: right;\">             2</td><td style=\"text-align: right;\">          8</td><td style=\"text-align: right;\">               0</td><td style=\"text-align: right;\">                 4</td><td style=\"text-align: right;\">                 6</td><td style=\"text-align: right;\">                 9</td><td style=\"text-align: right;\">              1</td><td style=\"text-align: right;\">              5</td><td style=\"text-align: right;\">              6</td><td style=\"text-align: right;\">              9</td><td style=\"text-align: right;\">         2</td><td>No               </td><td style=\"text-align: right;\">                0</td><td style=\"text-align: right;\">              1   </td><td style=\"text-align: right;\">               0.95</td><td style=\"text-align: right;\">             0</td><td>No         </td><td>No             </td><td>No         </td><td>Yes            </td><td>No        </td><td>Yes                </td></tr>\n<tr><td style=\"text-align: right;\">1.11687e+06</td><td style=\"text-align: right;\">            -7</td><td style=\"text-align: right;\">          8</td><td style=\"text-align: right;\">               0</td><td style=\"text-align: right;\">                56</td><td style=\"text-align: right;\">                96</td><td style=\"text-align: right;\">               112</td><td style=\"text-align: right;\">             13</td><td style=\"text-align: right;\">             30</td><td style=\"text-align: right;\">             56</td><td style=\"text-align: right;\">             76</td><td style=\"text-align: right;\">         0</td><td>No               </td><td style=\"text-align: right;\">                0</td><td style=\"text-align: right;\">              0.97</td><td style=\"text-align: right;\">               0.92</td><td style=\"text-align: right;\">             7</td><td>No         </td><td>No             </td><td>No         </td><td>Yes            </td><td>No        </td><td>Yes                </td></tr>\n</tbody>\n</table>"
     },
     "metadata": {}
    },
    {
     "output_type": "execute_result",
     "data": {
      "text/plain": ""
     },
     "metadata": {},
     "execution_count": 2
    }
   ],
   "source": [
    "#Load data into cluster\n",
    "filename = \"https://github.com/h2oai/h2o-tutorials/raw/master/h2o-world-2017/automl/data/product_backorders.csv\"\n",
    "\n",
    "df = h2o.import_file(filename)\n",
    "\n",
    "df.head()"
   ]
  },
  {
   "cell_type": "code",
   "execution_count": 3,
   "metadata": {
    "tags": []
   },
   "outputs": [
    {
     "output_type": "stream",
     "name": "stdout",
     "text": "AutoML progress: |\n21:48:23.532: AutoML: XGBoost is not available; skipping it.\n\n████████████████████████████████████████████████████████| 100%\n"
    }
   ],
   "source": [
    "#Splitting the dataset\n",
    "splits = df.split_frame(ratios=[0.7], seed = 1)\n",
    "train = splits[0]\n",
    "test = splits[1]\n",
    "\n",
    "y = \"went_on_backorder\"\n",
    "x = df.columns\n",
    "x.remove(\"sku\")\n",
    "x.remove(y)\n",
    "\n",
    "#Run AutoML\n",
    "aml = H2OAutoML(max_runtime_secs = 240, seed = 1)\n",
    "aml.train(x = x, y = y, training_frame = train)\n",
    "\n",
    "\n",
    "\n",
    "\n",
    "\n"
   ]
  },
  {
   "cell_type": "code",
   "execution_count": 4,
   "metadata": {},
   "outputs": [
    {
     "output_type": "display_data",
     "data": {
      "text/html": "<table>\n<thead>\n<tr><th>model_id                                           </th><th style=\"text-align: right;\">     auc</th><th style=\"text-align: right;\">  logloss</th><th style=\"text-align: right;\">   aucpr</th><th style=\"text-align: right;\">  mean_per_class_error</th><th style=\"text-align: right;\">    rmse</th><th style=\"text-align: right;\">      mse</th></tr>\n</thead>\n<tbody>\n<tr><td>StackedEnsemble_AllModels_AutoML_20200916_214823   </td><td style=\"text-align: right;\">0.947576</td><td style=\"text-align: right;\"> 0.184902</td><td style=\"text-align: right;\">0.739018</td><td style=\"text-align: right;\">              0.165098</td><td style=\"text-align: right;\">0.230493</td><td style=\"text-align: right;\">0.0531271</td></tr>\n<tr><td>StackedEnsemble_BestOfFamily_AutoML_20200916_214823</td><td style=\"text-align: right;\">0.947003</td><td style=\"text-align: right;\"> 0.185546</td><td style=\"text-align: right;\">0.738859</td><td style=\"text-align: right;\">              0.159836</td><td style=\"text-align: right;\">0.230717</td><td style=\"text-align: right;\">0.0532305</td></tr>\n<tr><td>GBM_4_AutoML_20200916_214823                       </td><td style=\"text-align: right;\">0.946255</td><td style=\"text-align: right;\"> 0.177204</td><td style=\"text-align: right;\">0.731942</td><td style=\"text-align: right;\">              0.158332</td><td style=\"text-align: right;\">0.228648</td><td style=\"text-align: right;\">0.05228  </td></tr>\n<tr><td>GBM_3_AutoML_20200916_214823                       </td><td style=\"text-align: right;\">0.943897</td><td style=\"text-align: right;\"> 0.180116</td><td style=\"text-align: right;\">0.724003</td><td style=\"text-align: right;\">              0.159587</td><td style=\"text-align: right;\">0.229858</td><td style=\"text-align: right;\">0.0528346</td></tr>\n<tr><td>GBM_2_AutoML_20200916_214823                       </td><td style=\"text-align: right;\">0.941305</td><td style=\"text-align: right;\"> 0.18557 </td><td style=\"text-align: right;\">0.713645</td><td style=\"text-align: right;\">              0.154123</td><td style=\"text-align: right;\">0.233476</td><td style=\"text-align: right;\">0.054511 </td></tr>\n<tr><td>GBM_5_AutoML_20200916_214823                       </td><td style=\"text-align: right;\">0.93877 </td><td style=\"text-align: right;\"> 0.192216</td><td style=\"text-align: right;\">0.705799</td><td style=\"text-align: right;\">              0.153604</td><td style=\"text-align: right;\">0.238581</td><td style=\"text-align: right;\">0.0569209</td></tr>\n<tr><td>XRT_1_AutoML_20200916_214823                       </td><td style=\"text-align: right;\">0.938658</td><td style=\"text-align: right;\"> 0.206046</td><td style=\"text-align: right;\">0.7154  </td><td style=\"text-align: right;\">              0.166387</td><td style=\"text-align: right;\">0.244745</td><td style=\"text-align: right;\">0.0599   </td></tr>\n<tr><td>GBM_1_AutoML_20200916_214823                       </td><td style=\"text-align: right;\">0.937308</td><td style=\"text-align: right;\"> 0.19248 </td><td style=\"text-align: right;\">0.701135</td><td style=\"text-align: right;\">              0.150656</td><td style=\"text-align: right;\">0.238145</td><td style=\"text-align: right;\">0.0567131</td></tr>\n<tr><td>DRF_1_AutoML_20200916_214823                       </td><td style=\"text-align: right;\">0.930056</td><td style=\"text-align: right;\"> 0.222322</td><td style=\"text-align: right;\">0.679189</td><td style=\"text-align: right;\">              0.190602</td><td style=\"text-align: right;\">0.255731</td><td style=\"text-align: right;\">0.0653982</td></tr>\n<tr><td>GBM_grid__1_AutoML_20200916_214823_model_1         </td><td style=\"text-align: right;\">0.889245</td><td style=\"text-align: right;\"> 0.257196</td><td style=\"text-align: right;\">0.550991</td><td style=\"text-align: right;\">              0.212981</td><td style=\"text-align: right;\">0.27568 </td><td style=\"text-align: right;\">0.0759997</td></tr>\n<tr><td>GLM_1_AutoML_20200916_214823                       </td><td style=\"text-align: right;\">0.73112 </td><td style=\"text-align: right;\"> 0.337509</td><td style=\"text-align: right;\">0.276887</td><td style=\"text-align: right;\">              0.314357</td><td style=\"text-align: right;\">0.314271</td><td style=\"text-align: right;\">0.0987665</td></tr>\n<tr><td>DeepLearning_grid__1_AutoML_20200916_214823_model_2</td><td style=\"text-align: right;\">0.626743</td><td style=\"text-align: right;\"> 2.53502 </td><td style=\"text-align: right;\">0.211128</td><td style=\"text-align: right;\">              0.416775</td><td style=\"text-align: right;\">0.346066</td><td style=\"text-align: right;\">0.119762 </td></tr>\n<tr><td>DeepLearning_1_AutoML_20200916_214823              </td><td style=\"text-align: right;\">0.610556</td><td style=\"text-align: right;\"> 0.693409</td><td style=\"text-align: right;\">0.196144</td><td style=\"text-align: right;\">              0.402554</td><td style=\"text-align: right;\">0.339473</td><td style=\"text-align: right;\">0.115242 </td></tr>\n<tr><td>DeepLearning_grid__1_AutoML_20200916_214823_model_3</td><td style=\"text-align: right;\">0.540566</td><td style=\"text-align: right;\"> 4.5665  </td><td style=\"text-align: right;\">0.131956</td><td style=\"text-align: right;\">              0.459141</td><td style=\"text-align: right;\">0.645181</td><td style=\"text-align: right;\">0.416258 </td></tr>\n<tr><td>DeepLearning_grid__2_AutoML_20200916_214823_model_1</td><td style=\"text-align: right;\">0.525151</td><td style=\"text-align: right;\"> 2.91443 </td><td style=\"text-align: right;\">0.136163</td><td style=\"text-align: right;\">              0.5     </td><td style=\"text-align: right;\">0.515033</td><td style=\"text-align: right;\">0.265259 </td></tr>\n<tr><td>DeepLearning_grid__1_AutoML_20200916_214823_model_1</td><td style=\"text-align: right;\">0.511807</td><td style=\"text-align: right;\"> 3.58979 </td><td style=\"text-align: right;\">0.125859</td><td style=\"text-align: right;\">              0.5     </td><td style=\"text-align: right;\">0.514684</td><td style=\"text-align: right;\">0.264899 </td></tr>\n</tbody>\n</table>"
     },
     "metadata": {}
    },
    {
     "output_type": "execute_result",
     "data": {
      "text/plain": ""
     },
     "metadata": {},
     "execution_count": 4
    }
   ],
   "source": [
    "lb = aml.leaderboard\n",
    "lb.head(rows = lb.nrows)"
   ]
  },
  {
   "cell_type": "code",
   "execution_count": null,
   "metadata": {},
   "outputs": [],
   "source": []
  }
 ]
}