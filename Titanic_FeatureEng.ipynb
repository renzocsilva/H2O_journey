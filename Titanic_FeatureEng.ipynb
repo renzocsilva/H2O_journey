{
 "metadata": {
  "language_info": {
   "codemirror_mode": {
    "name": "ipython",
    "version": 3
   },
   "file_extension": ".py",
   "mimetype": "text/x-python",
   "name": "python",
   "nbconvert_exporter": "python",
   "pygments_lexer": "ipython3",
   "version": "3.8.5-final"
  },
  "orig_nbformat": 2,
  "kernelspec": {
   "name": "python_defaultSpec_1600750307658",
   "display_name": "Python 3.8.5 32-bit"
  }
 },
 "nbformat": 4,
 "nbformat_minor": 2,
 "cells": [
  {
   "source": [
    "ML Foundations: Hands on, Feature Engineering"
   ],
   "cell_type": "code",
   "metadata": {},
   "execution_count": null,
   "outputs": []
  },
  {
   "cell_type": "code",
   "execution_count": 1,
   "metadata": {
    "tags": []
   },
   "outputs": [
    {
     "output_type": "stream",
     "name": "stdout",
     "text": "Checking whether there is an H2O instance running at http://localhost:54321..... not found.\nAttempting to start a local H2O server...\n; Java HotSpot(TM) Client VM (build 25.261-b12, mixed mode, sharing)\n  Starting server from C:\\Users\\Renzo\\AppData\\Local\\Programs\\Python\\Python38-32\\Lib\\site-packages\\h2o\\backend\\bin\\h2o.jar\n  Ice root: C:\\Users\\Renzo\\AppData\\Local\\Temp\\tmpyckm9snx\n  JVM stdout: C:\\Users\\Renzo\\AppData\\Local\\Temp\\tmpyckm9snx\\h2o_Renzo_started_from_python.out\n  JVM stderr: C:\\Users\\Renzo\\AppData\\Local\\Temp\\tmpyckm9snx\\h2o_Renzo_started_from_python.err\n  Server is running at http://127.0.0.1:54321\nConnecting to H2O server at http://127.0.0.1:54321 ... successful.\n"
    },
    {
     "output_type": "display_data",
     "data": {
      "text/plain": "--------------------------  ---------------------------------------------------------\nH2O_cluster_uptime:         04 secs\nH2O_cluster_timezone:       America/Denver\nH2O_data_parsing_timezone:  UTC\nH2O_cluster_version:        3.30.1.2\nH2O_cluster_version_age:    18 days\nH2O_cluster_name:           H2O_from_python_Renzo_l5kycy\nH2O_cluster_total_nodes:    1\nH2O_cluster_free_memory:    247.5 Mb\nH2O_cluster_total_cores:    8\nH2O_cluster_allowed_cores:  8\nH2O_cluster_status:         accepting new members, healthy\nH2O_connection_url:         http://127.0.0.1:54321\nH2O_connection_proxy:       {\"http\": null, \"https\": null}\nH2O_internal_security:      False\nH2O_API_Extensions:         Amazon S3, Algos, AutoML, Core V3, TargetEncoder, Core V4\nPython_version:             3.8.5 final\n--------------------------  ---------------------------------------------------------",
      "text/html": "<div style=\"overflow:auto\"><table style=\"width:50%\"><tr><td>H2O_cluster_uptime:</td>\n<td>04 secs</td></tr>\n<tr><td>H2O_cluster_timezone:</td>\n<td>America/Denver</td></tr>\n<tr><td>H2O_data_parsing_timezone:</td>\n<td>UTC</td></tr>\n<tr><td>H2O_cluster_version:</td>\n<td>3.30.1.2</td></tr>\n<tr><td>H2O_cluster_version_age:</td>\n<td>18 days </td></tr>\n<tr><td>H2O_cluster_name:</td>\n<td>H2O_from_python_Renzo_l5kycy</td></tr>\n<tr><td>H2O_cluster_total_nodes:</td>\n<td>1</td></tr>\n<tr><td>H2O_cluster_free_memory:</td>\n<td>247.5 Mb</td></tr>\n<tr><td>H2O_cluster_total_cores:</td>\n<td>8</td></tr>\n<tr><td>H2O_cluster_allowed_cores:</td>\n<td>8</td></tr>\n<tr><td>H2O_cluster_status:</td>\n<td>accepting new members, healthy</td></tr>\n<tr><td>H2O_connection_url:</td>\n<td>http://127.0.0.1:54321</td></tr>\n<tr><td>H2O_connection_proxy:</td>\n<td>{\"http\": null, \"https\": null}</td></tr>\n<tr><td>H2O_internal_security:</td>\n<td>False</td></tr>\n<tr><td>H2O_API_Extensions:</td>\n<td>Amazon S3, Algos, AutoML, Core V3, TargetEncoder, Core V4</td></tr>\n<tr><td>Python_version:</td>\n<td>3.8.5 final</td></tr></table></div>"
     },
     "metadata": {}
    }
   ],
   "source": [
    "import h2o\n",
    "from h2o.estimators import H2OTargetEncoderEstimator\n",
    "from h2o.estimators.gbm import H2OGradientBoostingEstimator\n",
    "h2o.init()"
   ]
  },
  {
   "cell_type": "code",
   "execution_count": 2,
   "metadata": {
    "tags": []
   },
   "outputs": [
    {
     "output_type": "stream",
     "name": "stdout",
     "text": "Parse progress: |█████████████████████████████████████████████████████████| 100%\n"
    },
    {
     "output_type": "display_data",
     "data": {
      "text/html": "<table>\n<thead>\n<tr><th style=\"text-align: right;\">  pclass</th><th style=\"text-align: right;\">  survived</th><th>name                                           </th><th>sex   </th><th style=\"text-align: right;\">    age</th><th style=\"text-align: right;\">  sibsp</th><th style=\"text-align: right;\">  parch</th><th style=\"text-align: right;\">  ticket</th><th style=\"text-align: right;\">    fare</th><th>cabin  </th><th>embarked  </th><th style=\"text-align: right;\">  boat</th><th style=\"text-align: right;\">  body</th><th>home.dest                      </th></tr>\n</thead>\n<tbody>\n<tr><td style=\"text-align: right;\">       1</td><td style=\"text-align: right;\">         1</td><td>Allen  Miss. Elisabeth Walton                  </td><td>female</td><td style=\"text-align: right;\">29     </td><td style=\"text-align: right;\">      0</td><td style=\"text-align: right;\">      0</td><td style=\"text-align: right;\">   24160</td><td style=\"text-align: right;\">211.338 </td><td>B5     </td><td>S         </td><td style=\"text-align: right;\">     2</td><td style=\"text-align: right;\">   nan</td><td>St Louis  MO                   </td></tr>\n<tr><td style=\"text-align: right;\">       1</td><td style=\"text-align: right;\">         1</td><td>Allison  Master. Hudson Trevor                 </td><td>male  </td><td style=\"text-align: right;\"> 0.9167</td><td style=\"text-align: right;\">      1</td><td style=\"text-align: right;\">      2</td><td style=\"text-align: right;\">  113781</td><td style=\"text-align: right;\">151.55  </td><td>C22 C26</td><td>S         </td><td style=\"text-align: right;\">    11</td><td style=\"text-align: right;\">   nan</td><td>Montreal  PQ / Chesterville  ON</td></tr>\n<tr><td style=\"text-align: right;\">       1</td><td style=\"text-align: right;\">         0</td><td>Allison  Miss. Helen Loraine                   </td><td>female</td><td style=\"text-align: right;\"> 2     </td><td style=\"text-align: right;\">      1</td><td style=\"text-align: right;\">      2</td><td style=\"text-align: right;\">  113781</td><td style=\"text-align: right;\">151.55  </td><td>C22 C26</td><td>S         </td><td style=\"text-align: right;\">   nan</td><td style=\"text-align: right;\">   nan</td><td>Montreal  PQ / Chesterville  ON</td></tr>\n<tr><td style=\"text-align: right;\">       1</td><td style=\"text-align: right;\">         0</td><td>Allison  Mr. Hudson Joshua Creighton           </td><td>male  </td><td style=\"text-align: right;\">30     </td><td style=\"text-align: right;\">      1</td><td style=\"text-align: right;\">      2</td><td style=\"text-align: right;\">  113781</td><td style=\"text-align: right;\">151.55  </td><td>C22 C26</td><td>S         </td><td style=\"text-align: right;\">   nan</td><td style=\"text-align: right;\">   135</td><td>Montreal  PQ / Chesterville  ON</td></tr>\n<tr><td style=\"text-align: right;\">       1</td><td style=\"text-align: right;\">         0</td><td>Allison  Mrs. Hudson J C (Bessie Waldo Daniels)</td><td>female</td><td style=\"text-align: right;\">25     </td><td style=\"text-align: right;\">      1</td><td style=\"text-align: right;\">      2</td><td style=\"text-align: right;\">  113781</td><td style=\"text-align: right;\">151.55  </td><td>C22 C26</td><td>S         </td><td style=\"text-align: right;\">   nan</td><td style=\"text-align: right;\">   nan</td><td>Montreal  PQ / Chesterville  ON</td></tr>\n<tr><td style=\"text-align: right;\">       1</td><td style=\"text-align: right;\">         1</td><td>Anderson  Mr. Harry                            </td><td>male  </td><td style=\"text-align: right;\">48     </td><td style=\"text-align: right;\">      0</td><td style=\"text-align: right;\">      0</td><td style=\"text-align: right;\">   19952</td><td style=\"text-align: right;\"> 26.55  </td><td>E12    </td><td>S         </td><td style=\"text-align: right;\">     3</td><td style=\"text-align: right;\">   nan</td><td>New York  NY                   </td></tr>\n<tr><td style=\"text-align: right;\">       1</td><td style=\"text-align: right;\">         1</td><td>Andrews  Miss. Kornelia Theodosia              </td><td>female</td><td style=\"text-align: right;\">63     </td><td style=\"text-align: right;\">      1</td><td style=\"text-align: right;\">      0</td><td style=\"text-align: right;\">   13502</td><td style=\"text-align: right;\"> 77.9583</td><td>D7     </td><td>S         </td><td style=\"text-align: right;\">    10</td><td style=\"text-align: right;\">   nan</td><td>Hudson  NY                     </td></tr>\n<tr><td style=\"text-align: right;\">       1</td><td style=\"text-align: right;\">         0</td><td>Andrews  Mr. Thomas Jr                         </td><td>male  </td><td style=\"text-align: right;\">39     </td><td style=\"text-align: right;\">      0</td><td style=\"text-align: right;\">      0</td><td style=\"text-align: right;\">  112050</td><td style=\"text-align: right;\">  0     </td><td>A36    </td><td>S         </td><td style=\"text-align: right;\">   nan</td><td style=\"text-align: right;\">   nan</td><td>Belfast  NI                    </td></tr>\n<tr><td style=\"text-align: right;\">       1</td><td style=\"text-align: right;\">         1</td><td>Appleton  Mrs. Edward Dale (Charlotte Lamson)  </td><td>female</td><td style=\"text-align: right;\">53     </td><td style=\"text-align: right;\">      2</td><td style=\"text-align: right;\">      0</td><td style=\"text-align: right;\">   11769</td><td style=\"text-align: right;\"> 51.4792</td><td>C101   </td><td>S         </td><td style=\"text-align: right;\">   nan</td><td style=\"text-align: right;\">   nan</td><td>Bayside  Queens  NY            </td></tr>\n<tr><td style=\"text-align: right;\">       1</td><td style=\"text-align: right;\">         0</td><td>Artagaveytia  Mr. Ramon                        </td><td>male  </td><td style=\"text-align: right;\">71     </td><td style=\"text-align: right;\">      0</td><td style=\"text-align: right;\">      0</td><td style=\"text-align: right;\">     nan</td><td style=\"text-align: right;\"> 49.5042</td><td>       </td><td>C         </td><td style=\"text-align: right;\">   nan</td><td style=\"text-align: right;\">    22</td><td>Montevideo  Uruguay            </td></tr>\n</tbody>\n</table>"
     },
     "metadata": {}
    },
    {
     "output_type": "execute_result",
     "data": {
      "text/plain": ""
     },
     "metadata": {},
     "execution_count": 2
    }
   ],
   "source": [
    "#Load data into cluster\n",
    "filename = \"https://s3.amazonaws.com/h2o-public-test-data/smalldata/gbm_test/titanic.csv\"\n",
    "df = h2o.import_file(filename)\n",
    "df.head()"
   ]
  },
  {
   "cell_type": "code",
   "execution_count": 3,
   "metadata": {
    "tags": []
   },
   "outputs": [],
   "source": [
    "#Response column\n",
    "df[\"survived\"] = df[\"survived\"].asfactor()\n",
    "response = \"survived\"\n",
    "\n",
    "# Split the data set\n",
    "train, test = df.split_frame(ratios=[0.8], seed = 1234)\n",
    "#train = splits[0]\n",
    "#test = splits[1]\n"
   ]
  },
  {
   "cell_type": "code",
   "execution_count": 6,
   "metadata": {},
   "outputs": [],
   "source": [
    "# Encoded columns\n",
    "encoded = [\"home.dest\", \"cabin\", \"embarked\"]\n",
    "\n",
    "# Target encoding\n",
    "blended_avg = True\n",
    "inflection_point = 3\n",
    "smoothing = 10\n",
    "noise = 0.15\n",
    "\n",
    "# To avoid data leakage, using k_fild strategy\n",
    "data_leakage_handling = \"k_fold\"\n",
    "fold_column = \"kfold_column\"\n",
    "n_folds = 5\n",
    "train[fold_column] = train.kfold_column(n_folds, seed = 3456)\n",
    "\n",
    "\n"
   ]
  },
  {
   "cell_type": "code",
   "execution_count": 7,
   "metadata": {
    "tags": []
   },
   "outputs": [
    {
     "output_type": "stream",
     "name": "stdout",
     "text": "targetencoder Model Build progress: |█████████████████████████████████████| 100%\n"
    }
   ],
   "source": [
    "# Training a target encoded model\n",
    "\n",
    "titanic_te = H2OTargetEncoderEstimator(fold_column = fold_column,\n",
    "                                       data_leakage_handling = data_leakage_handling,\n",
    "                                       blending = blended_avg,\n",
    "                                       k = inflection_point,\n",
    "                                       f = smoothing)\n",
    "\n",
    "titanic_te.train(x = encoded, y = response, training_frame = train)\n",
    "\n"
   ]
  },
  {
   "cell_type": "code",
   "execution_count": 8,
   "metadata": {},
   "outputs": [],
   "source": [
    "# New encoded train and test sets\n",
    "train_te = titanic_te.transform(frame = train, data_leakage_handling = data_leakage_handling, seed = 1234, noise = noise)\n",
    "\n",
    "test_te = titanic_te.transform(frame = test, data_leakage_handling = data_leakage_handling, seed = 1234, noise = 0)\n",
    "\n",
    "\n"
   ]
  },
  {
   "cell_type": "code",
   "execution_count": 9,
   "metadata": {},
   "outputs": [],
   "source": [
    "# Define a gradient boosting machine model with target encoding\n",
    "\n",
    "gbm_with_te = H2OGradientBoostingEstimator(max_depth = 6,\n",
    "                                           min_rows = 1,\n",
    "                                           fold_column = fold_column,\n",
    "                                           score_tree_interval = 5,\n",
    "                                           ntrees = 10000,\n",
    "                                           sample_rate = 0.8,\n",
    "                                           col_sample_rate = 0.8,\n",
    "                                           seed = 1234,\n",
    "                                           stopping_rounds = 5,\n",
    "                                           stopping_metric = \"auto\",\n",
    "                                           stopping_tolerance = 0.001,\n",
    "                                           model_id = \"gbm_with_te\")\n"
   ]
  },
  {
   "cell_type": "code",
   "execution_count": 11,
   "metadata": {
    "tags": []
   },
   "outputs": [
    {
     "output_type": "stream",
     "name": "stdout",
     "text": "gbm Model Build progress: |███████████████████████████████████████████████| 100%\n"
    }
   ],
   "source": [
    "#Training\n",
    "\n",
    "x_with_te = [\"pclass\", \"sex\", \"age\", \"sibsp\", \"parch\", \"fare\", \"cabin\", \"embarked\", \"home.dest\"]\n",
    "gbm_with_te.train(x = x_with_te, y = response, training_frame = train_te)\n"
   ]
  },
  {
   "cell_type": "code",
   "execution_count": 13,
   "metadata": {},
   "outputs": [
    {
     "output_type": "execute_result",
     "data": {
      "text/plain": "0.8555900621118012"
     },
     "metadata": {},
     "execution_count": 13
    }
   ],
   "source": [
    "#test unseen data\n",
    "\n",
    "my_gbm_metrics = gbm_with_te.model_performance(test_te)\n",
    "auc_with_te = my_gbm_metrics.auc()\n",
    "auc_with_te\n"
   ]
  },
  {
   "cell_type": "code",
   "execution_count": 14,
   "metadata": {
    "tags": []
   },
   "outputs": [
    {
     "output_type": "stream",
     "name": "stdout",
     "text": "gbm Model Build progress: |███████████████████████████████████████████████| 100%\n"
    },
    {
     "output_type": "execute_result",
     "data": {
      "text/plain": "0.8417470596008987"
     },
     "metadata": {},
     "execution_count": 14
    }
   ],
   "source": [
    "# Create a baseline GBM estimator\n",
    "\n",
    "gbm_baseline = H2OGradientBoostingEstimator(max_depth = 6,\n",
    "                                            min_rows = 1,\n",
    "                                            fold_column = fold_column,\n",
    "                                            score_tree_interval = 5,\n",
    "                                            ntrees = 10000,\n",
    "                                            sample_rate = 0.8,\n",
    "                                            col_sample_rate = 0.8,\n",
    "                                            seed = 1234,\n",
    "                                            stopping_rounds = 5,\n",
    "                                            stopping_metric = \"auto\",\n",
    "                                            stopping_tolerance = 0.001,\n",
    "                                            model_id = \"gbm_baseline\")\n",
    "\n",
    "x_baseline = [\"pclass\", \"sex\", \"age\", \"sibsp\", \"parch\", \"fare\", \"cabin\", \"embarked\", \"home.dest\"]\n",
    "gbm_baseline.train(x=x_baseline, y=response, training_frame=train)\n",
    "gbm_baseline_metrics = gbm_baseline.model_performance(test)\n",
    "auc_baseline = gbm_baseline_metrics.auc()\n",
    "auc_baseline\n",
    "\n"
   ]
  },
  {
   "cell_type": "code",
   "execution_count": 5,
   "metadata": {},
   "outputs": [],
   "source": [
    "h2o.cluster().shutdown(prompt = True)"
   ]
  },
  {
   "cell_type": "code",
   "execution_count": null,
   "metadata": {},
   "outputs": [],
   "source": []
  }
 ]
}