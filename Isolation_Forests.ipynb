{
 "cells": [
  {
   "cell_type": "code",
   "execution_count": 1,
   "metadata": {
    "scrolled": false
   },
   "outputs": [
    {
     "name": "stdout",
     "output_type": "stream",
     "text": [
      "Checking whether there is an H2O instance running at http://localhost:54321 ..... not found.\n",
      "Attempting to start a local H2O server...\n",
      "  Java Version: openjdk version \"1.8.0_242\"; OpenJDK Runtime Environment (build 1.8.0_242-8u242-b08-0ubuntu3~18.04-b08); OpenJDK 64-Bit Server VM (build 25.242-b08, mixed mode)\n",
      "  Starting server from /home/h2o/bin/miniconda3/envs/h2o/lib/python3.6/site-packages/h2o/backend/bin/h2o.jar\n",
      "  Ice root: /tmp/tmpj0kffj6g\n",
      "  JVM stdout: /tmp/tmpj0kffj6g/h2o_unknownUser_started_from_python.out\n",
      "  JVM stderr: /tmp/tmpj0kffj6g/h2o_unknownUser_started_from_python.err\n",
      "  Server is running at http://127.0.0.1:54323\n",
      "Connecting to H2O server at http://127.0.0.1:54323 ... successful.\n",
      "Warning: Your H2O cluster version is too old (1 year, 1 month and 3 days)! Please download and install the latest version from http://h2o.ai/download/\n"
     ]
    },
    {
     "data": {
      "text/html": [
       "<div style=\"overflow:auto\"><table style=\"width:50%\"><tr><td>H2O cluster uptime:</td>\n",
       "<td>01 secs</td></tr>\n",
       "<tr><td>H2O cluster timezone:</td>\n",
       "<td>Etc/UTC</td></tr>\n",
       "<tr><td>H2O data parsing timezone:</td>\n",
       "<td>UTC</td></tr>\n",
       "<tr><td>H2O cluster version:</td>\n",
       "<td>3.26.0.5</td></tr>\n",
       "<tr><td>H2O cluster version age:</td>\n",
       "<td>1 year, 1 month and 3 days !!!</td></tr>\n",
       "<tr><td>H2O cluster name:</td>\n",
       "<td>H2O_from_python_unknownUser_m1zrel</td></tr>\n",
       "<tr><td>H2O cluster total nodes:</td>\n",
       "<td>1</td></tr>\n",
       "<tr><td>H2O cluster free memory:</td>\n",
       "<td>13.98 Gb</td></tr>\n",
       "<tr><td>H2O cluster total cores:</td>\n",
       "<td>16</td></tr>\n",
       "<tr><td>H2O cluster allowed cores:</td>\n",
       "<td>16</td></tr>\n",
       "<tr><td>H2O cluster status:</td>\n",
       "<td>accepting new members, healthy</td></tr>\n",
       "<tr><td>H2O connection url:</td>\n",
       "<td>http://127.0.0.1:54323</td></tr>\n",
       "<tr><td>H2O connection proxy:</td>\n",
       "<td>None</td></tr>\n",
       "<tr><td>H2O internal security:</td>\n",
       "<td>False</td></tr>\n",
       "<tr><td>H2O API Extensions:</td>\n",
       "<td>Amazon S3, XGBoost, Algos, AutoML, Core V3, TargetEncoder, Core V4</td></tr>\n",
       "<tr><td>Python version:</td>\n",
       "<td>3.6.10 final</td></tr></table></div>"
      ],
      "text/plain": [
       "--------------------------  ------------------------------------------------------------------\n",
       "H2O cluster uptime:         01 secs\n",
       "H2O cluster timezone:       Etc/UTC\n",
       "H2O data parsing timezone:  UTC\n",
       "H2O cluster version:        3.26.0.5\n",
       "H2O cluster version age:    1 year, 1 month and 3 days !!!\n",
       "H2O cluster name:           H2O_from_python_unknownUser_m1zrel\n",
       "H2O cluster total nodes:    1\n",
       "H2O cluster free memory:    13.98 Gb\n",
       "H2O cluster total cores:    16\n",
       "H2O cluster allowed cores:  16\n",
       "H2O cluster status:         accepting new members, healthy\n",
       "H2O connection url:         http://127.0.0.1:54323\n",
       "H2O connection proxy:\n",
       "H2O internal security:      False\n",
       "H2O API Extensions:         Amazon S3, XGBoost, Algos, AutoML, Core V3, TargetEncoder, Core V4\n",
       "Python version:             3.6.10 final\n",
       "--------------------------  ------------------------------------------------------------------"
      ]
     },
     "metadata": {},
     "output_type": "display_data"
    }
   ],
   "source": [
    "import h2o\n",
    "h2o.init()\n",
    "from h2o.estimators import H2OIsolationForestEstimator"
   ]
  },
  {
   "cell_type": "markdown",
   "metadata": {},
   "source": [
    "Anomaly detection case study"
   ]
  },
  {
   "cell_type": "code",
   "execution_count": 2,
   "metadata": {},
   "outputs": [
    {
     "name": "stdout",
     "output_type": "stream",
     "text": [
      "Parse progress: |█████████████████████████████████████████████████████████| 100%\n"
     ]
    }
   ],
   "source": [
    "#Import dataset\n",
    "credit_card = h2o.import_file('https://github.com/nsethi31/Kaggle-Data-Credit-Card-Fraud-Detection/raw/master/creditcard.csv')"
   ]
  },
  {
   "cell_type": "code",
   "execution_count": 3,
   "metadata": {},
   "outputs": [
    {
     "name": "stdout",
     "output_type": "stream",
     "text": [
      "isolationforest Model Build progress: |███████████████████████████████████| 100%\n"
     ]
    }
   ],
   "source": [
    "seed = 12345 # For reproducibility of the experiment\n",
    "ntrees = 100 #Specify the number of Trees\n",
    "isoforest = H2OIsolationForestEstimator( ntrees=ntrees, seed=seed)\n",
    "# Specify x as a vector containing the names or indices of the predictor variables to use when building the model.\n",
    "isoforest.train(x=credit_card.col_names[0:30], training_frame=credit_card)"
   ]
  },
  {
   "cell_type": "code",
   "execution_count": 4,
   "metadata": {},
   "outputs": [
    {
     "name": "stdout",
     "output_type": "stream",
     "text": [
      "isolationforest prediction progress: |████████████████████████████████████| 100%\n"
     ]
    },
    {
     "data": {
      "text/html": [
       "<table>\n",
       "<thead>\n",
       "<tr><th style=\"text-align: right;\">  predict</th><th style=\"text-align: right;\">  mean_length</th></tr>\n",
       "</thead>\n",
       "<tbody>\n",
       "<tr><td style=\"text-align: right;\">0.0407125</td><td style=\"text-align: right;\">         6.84</td></tr>\n",
       "<tr><td style=\"text-align: right;\">0.0203562</td><td style=\"text-align: right;\">         6.92</td></tr>\n",
       "<tr><td style=\"text-align: right;\">0.170483 </td><td style=\"text-align: right;\">         6.33</td></tr>\n",
       "<tr><td style=\"text-align: right;\">0.0814249</td><td style=\"text-align: right;\">         6.68</td></tr>\n",
       "<tr><td style=\"text-align: right;\">0.0534351</td><td style=\"text-align: right;\">         6.79</td></tr>\n",
       "<tr><td style=\"text-align: right;\">0.0254453</td><td style=\"text-align: right;\">         6.9 </td></tr>\n",
       "<tr><td style=\"text-align: right;\">0.0279898</td><td style=\"text-align: right;\">         6.89</td></tr>\n",
       "<tr><td style=\"text-align: right;\">0.19084  </td><td style=\"text-align: right;\">         6.25</td></tr>\n",
       "<tr><td style=\"text-align: right;\">0.0458015</td><td style=\"text-align: right;\">         6.82</td></tr>\n",
       "<tr><td style=\"text-align: right;\">0.0279898</td><td style=\"text-align: right;\">         6.89</td></tr>\n",
       "</tbody>\n",
       "</table>"
      ]
     },
     "metadata": {},
     "output_type": "display_data"
    },
    {
     "data": {
      "text/plain": []
     },
     "execution_count": 4,
     "metadata": {},
     "output_type": "execute_result"
    }
   ],
   "source": [
    "predictions = isoforest.predict(credit_card)\n",
    "\n",
    "predictions"
   ]
  },
  {
   "cell_type": "code",
   "execution_count": 5,
   "metadata": {},
   "outputs": [
    {
     "data": {
      "text/html": [
       "<table>\n",
       "<thead>\n",
       "<tr><th style=\"text-align: right;\">  predict</th><th style=\"text-align: right;\">  mean_length</th></tr>\n",
       "</thead>\n",
       "<tbody>\n",
       "<tr><td style=\"text-align: right;\">        1</td><td style=\"text-align: right;\">           -1</td></tr>\n",
       "<tr><td style=\"text-align: right;\">       -1</td><td style=\"text-align: right;\">            1</td></tr>\n",
       "</tbody>\n",
       "</table>"
      ]
     },
     "metadata": {},
     "output_type": "display_data"
    },
    {
     "data": {
      "text/plain": []
     },
     "execution_count": 5,
     "metadata": {},
     "output_type": "execute_result"
    }
   ],
   "source": [
    "predictions.cor()"
   ]
  },
  {
   "cell_type": "code",
   "execution_count": 6,
   "metadata": {},
   "outputs": [
    {
     "data": {
      "text/html": [
       "<table>\n",
       "<thead>\n",
       "<tr><th style=\"text-align: right;\">  Probs</th><th style=\"text-align: right;\">  predictQuantiles</th><th style=\"text-align: right;\">  mean_lengthQuantiles</th></tr>\n",
       "</thead>\n",
       "<tbody>\n",
       "<tr><td style=\"text-align: right;\">   0.95</td><td style=\"text-align: right;\">          0.178117</td><td style=\"text-align: right;\">                  6.98</td></tr>\n",
       "</tbody>\n",
       "</table>"
      ]
     },
     "metadata": {},
     "output_type": "display_data"
    },
    {
     "data": {
      "text/plain": []
     },
     "execution_count": 6,
     "metadata": {},
     "output_type": "execute_result"
    }
   ],
   "source": [
    "quantile = 0.95\n",
    "quantile_frame = predictions.quantile([quantile])\n",
    "quantile_frame"
   ]
  },
  {
   "cell_type": "code",
   "execution_count": 7,
   "metadata": {},
   "outputs": [
    {
     "data": {
      "text/html": [
       "<table>\n",
       "<thead>\n",
       "<tr><th style=\"text-align: right;\">  predict</th><th style=\"text-align: right;\">  mean_length</th><th style=\"text-align: right;\">  predicted_class</th><th style=\"text-align: right;\">  class</th></tr>\n",
       "</thead>\n",
       "<tbody>\n",
       "<tr><td style=\"text-align: right;\">0.0407125</td><td style=\"text-align: right;\">         6.84</td><td style=\"text-align: right;\">                0</td><td style=\"text-align: right;\">      0</td></tr>\n",
       "<tr><td style=\"text-align: right;\">0.0203562</td><td style=\"text-align: right;\">         6.92</td><td style=\"text-align: right;\">                0</td><td style=\"text-align: right;\">      0</td></tr>\n",
       "<tr><td style=\"text-align: right;\">0.170483 </td><td style=\"text-align: right;\">         6.33</td><td style=\"text-align: right;\">                0</td><td style=\"text-align: right;\">      0</td></tr>\n",
       "<tr><td style=\"text-align: right;\">0.0814249</td><td style=\"text-align: right;\">         6.68</td><td style=\"text-align: right;\">                0</td><td style=\"text-align: right;\">      0</td></tr>\n",
       "<tr><td style=\"text-align: right;\">0.0534351</td><td style=\"text-align: right;\">         6.79</td><td style=\"text-align: right;\">                0</td><td style=\"text-align: right;\">      0</td></tr>\n",
       "<tr><td style=\"text-align: right;\">0.0254453</td><td style=\"text-align: right;\">         6.9 </td><td style=\"text-align: right;\">                0</td><td style=\"text-align: right;\">      0</td></tr>\n",
       "<tr><td style=\"text-align: right;\">0.0279898</td><td style=\"text-align: right;\">         6.89</td><td style=\"text-align: right;\">                0</td><td style=\"text-align: right;\">      0</td></tr>\n",
       "<tr><td style=\"text-align: right;\">0.19084  </td><td style=\"text-align: right;\">         6.25</td><td style=\"text-align: right;\">                1</td><td style=\"text-align: right;\">      0</td></tr>\n",
       "<tr><td style=\"text-align: right;\">0.0458015</td><td style=\"text-align: right;\">         6.82</td><td style=\"text-align: right;\">                0</td><td style=\"text-align: right;\">      0</td></tr>\n",
       "<tr><td style=\"text-align: right;\">0.0279898</td><td style=\"text-align: right;\">         6.89</td><td style=\"text-align: right;\">                0</td><td style=\"text-align: right;\">      0</td></tr>\n",
       "</tbody>\n",
       "</table>"
      ]
     },
     "metadata": {},
     "output_type": "display_data"
    },
    {
     "data": {
      "text/plain": []
     },
     "execution_count": 7,
     "metadata": {},
     "output_type": "execute_result"
    }
   ],
   "source": [
    "threshold = quantile_frame[0, \"predictQuantiles\"]\n",
    "predictions[\"predicted_class\"] = predictions[\"predict\"] > threshold\n",
    "predictions[\"class\"] = credit_card[\"Class\"]\n",
    "predictions"
   ]
  },
  {
   "cell_type": "code",
   "execution_count": 8,
   "metadata": {},
   "outputs": [
    {
     "data": {
      "image/png": "[encoded data removed]",
      "text/plain": [
       "<Figure size 648x324 with 2 Axes>"
      ]
     },
     "metadata": {
      "needs_background": "light"
     },
     "output_type": "display_data"
    }
   ],
   "source": [
    "%matplotlib inline\n",
    "from sklearn.metrics import roc_curve, precision_recall_curve, auc\n",
    "import matplotlib.pyplot as plt\n",
    "import numpy as np\n",
    "\n",
    " \n",
    "def get_auc(labels, scores):\n",
    "    fpr, tpr, thresholds = roc_curve(labels, scores)\n",
    "    auc_score = auc(fpr, tpr)\n",
    "    return fpr, tpr, auc_score\n",
    " \n",
    " \n",
    "def get_aucpr(labels, scores):\n",
    "    precision, recall, th = precision_recall_curve(labels, scores)\n",
    "    aucpr_score = np.trapz(recall, precision)\n",
    "    return precision, recall, aucpr_score\n",
    " \n",
    " \n",
    "def plot_metric(ax, x, y, x_label, y_label, plot_label, style=\"-\"):\n",
    "    ax.plot(x, y, style, label=plot_label)\n",
    "    ax.legend()\n",
    "    \n",
    "    ax.set_ylabel(x_label)\n",
    "    ax.set_xlabel(y_label)\n",
    " \n",
    " \n",
    "def prediction_summary(labels, predicted_score, predicted_class, info, plot_baseline=True, axes=None):\n",
    "    if axes is None:\n",
    "        axes = [plt.subplot(1, 2, 1), plt.subplot(1, 2, 2)]\n",
    " \n",
    "    fpr, tpr, auc_score = get_auc(labels, predicted_score)\n",
    "    plot_metric(axes[0], fpr, tpr, \"False positive rate\",\n",
    "                \"True positive rate\", \"{} AUC = {:.4f}\".format(info, auc_score))\n",
    "    if plot_baseline:\n",
    "        plot_metric(axes[0], [0, 1], [0, 1], \"False positive rate\",\n",
    "                \"True positive rate\", \"baseline AUC = 0.5\", \"r--\")\n",
    " \n",
    "    precision, recall, aucpr_score = get_aucpr(labels, predicted_score)\n",
    "    plot_metric(axes[1], recall, precision, \"Recall\",\n",
    "                \"Precision\", \"{} AUCPR = {:.4f}\".format(info, aucpr_score))\n",
    "    if plot_baseline:\n",
    "        thr = sum(labels)/len(labels)\n",
    "        plot_metric(axes[1], [0, 1], [thr, thr], \"Recall\",\n",
    "                \"Precision\", \"baseline AUCPR = {:.4f}\".format(thr), \"r--\")\n",
    " \n",
    "    plt.show()\n",
    "    return axes\n",
    " \n",
    " \n",
    "def figure():\n",
    "    fig_size = 4.5\n",
    "    f = plt.figure()\n",
    "    f.set_figheight(fig_size)\n",
    "    f.set_figwidth(fig_size*2)\n",
    " \n",
    " \n",
    "h2o_predictions = predictions.as_data_frame()\n",
    " \n",
    "figure()\n",
    "axes = prediction_summary(\n",
    "    h2o_predictions[\"class\"], h2o_predictions[\"predict\"], h2o_predictions[\"predicted_class\"], \"h2o\")"
   ]
  },
  {
   "cell_type": "code",
   "execution_count": null,
   "metadata": {},
   "outputs": [],
   "source": []
  }
 ],
 "metadata": {
  "kernelspec": {
   "display_name": "Python 3",
   "language": "python",
   "name": "python3"
  },
  "language_info": {
   "codemirror_mode": {
    "name": "ipython",
    "version": 3
   },
   "file_extension": ".py",
   "mimetype": "text/x-python",
   "name": "python",
   "nbconvert_exporter": "python",
   "pygments_lexer": "ipython3",
   "version": "3.6.10"
  }
 },
 "nbformat": 4,
 "nbformat_minor": 4
}
