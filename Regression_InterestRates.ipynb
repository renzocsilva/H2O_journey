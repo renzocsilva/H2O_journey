{
 "metadata": {
  "language_info": {
   "codemirror_mode": {
    "name": "ipython",
    "version": 3
   },
   "file_extension": ".py",
   "mimetype": "text/x-python",
   "name": "python",
   "nbconvert_exporter": "python",
   "pygments_lexer": "ipython3",
   "version": "3.8.5-final"
  },
  "orig_nbformat": 2,
  "kernelspec": {
   "name": "python_defaultSpec_1602386718155",
   "display_name": "Python 3.8.5 32-bit",
   "metadata": {
    "interpreter": {
     "hash": "abab723379fb956964596cbd7265bdd95c8709c8c02145abd75df954abb7b86a"
    }
   }
  }
 },
 "nbformat": 4,
 "nbformat_minor": 2,
 "cells": [
  {
   "cell_type": "code",
   "execution_count": null,
   "metadata": {},
   "outputs": [],
   "source": [
    "Freddie Mac dataset with 20 years of mortgage history. The goal is to use H2O-3 to predict the interest rate for each loan, using XGBoost and Deep Learning models. "
   ]
  },
  {
   "cell_type": "code",
   "execution_count": 1,
   "metadata": {
    "tags": []
   },
   "outputs": [
    {
     "output_type": "stream",
     "name": "stdout",
     "text": "Checking whether there is an H2O instance running at http://localhost:54321 ..... not found.\nAttempting to start a local H2O server...\n; Java HotSpot(TM) Client VM (build 25.261-b12, mixed mode)\n  Starting server from C:\\Users\\Renzo\\AppData\\Local\\Programs\\Python\\Python38-32\\Lib\\site-packages\\h2o\\backend\\bin\\h2o.jar\n  Ice root: C:\\Users\\Renzo\\AppData\\Local\\Temp\\tmp4hgfjrwc\n  JVM stdout: C:\\Users\\Renzo\\AppData\\Local\\Temp\\tmp4hgfjrwc\\h2o_Renzo_started_from_python.out\n  JVM stderr: C:\\Users\\Renzo\\AppData\\Local\\Temp\\tmp4hgfjrwc\\h2o_Renzo_started_from_python.err\n  Server is running at http://127.0.0.1:54321\nConnecting to H2O server at http://127.0.0.1:54321 ... successful.\n"
    },
    {
     "output_type": "display_data",
     "data": {
      "text/plain": "--------------------------  ---------------------------------------------------------\nH2O_cluster_uptime:         04 secs\nH2O_cluster_timezone:       America/Denver\nH2O_data_parsing_timezone:  UTC\nH2O_cluster_version:        3.30.1.2\nH2O_cluster_version_age:    1 month and 7 days\nH2O_cluster_name:           H2O_from_python_Renzo_ykzqpy\nH2O_cluster_total_nodes:    1\nH2O_cluster_free_memory:    247.5 Mb\nH2O_cluster_total_cores:    8\nH2O_cluster_allowed_cores:  8\nH2O_cluster_status:         accepting new members, healthy\nH2O_connection_url:         http://127.0.0.1:54321\nH2O_connection_proxy:       {&quot;http&quot;: null, &quot;https&quot;: null}\nH2O_internal_security:      False\nH2O_API_Extensions:         Amazon S3, Algos, AutoML, Core V3, TargetEncoder, Core V4\nPython_version:             3.8.5 final\n--------------------------  ---------------------------------------------------------",
      "text/html": "<div style=\"overflow:auto\"><table style=\"width:50%\"><tr><td>H2O_cluster_uptime:</td>\n<td>04 secs</td></tr>\n<tr><td>H2O_cluster_timezone:</td>\n<td>America/Denver</td></tr>\n<tr><td>H2O_data_parsing_timezone:</td>\n<td>UTC</td></tr>\n<tr><td>H2O_cluster_version:</td>\n<td>3.30.1.2</td></tr>\n<tr><td>H2O_cluster_version_age:</td>\n<td>1 month and 7 days </td></tr>\n<tr><td>H2O_cluster_name:</td>\n<td>H2O_from_python_Renzo_ykzqpy</td></tr>\n<tr><td>H2O_cluster_total_nodes:</td>\n<td>1</td></tr>\n<tr><td>H2O_cluster_free_memory:</td>\n<td>247.5 Mb</td></tr>\n<tr><td>H2O_cluster_total_cores:</td>\n<td>8</td></tr>\n<tr><td>H2O_cluster_allowed_cores:</td>\n<td>8</td></tr>\n<tr><td>H2O_cluster_status:</td>\n<td>accepting new members, healthy</td></tr>\n<tr><td>H2O_connection_url:</td>\n<td>http://127.0.0.1:54321</td></tr>\n<tr><td>H2O_connection_proxy:</td>\n<td>{\"http\": null, \"https\": null}</td></tr>\n<tr><td>H2O_internal_security:</td>\n<td>False</td></tr>\n<tr><td>H2O_API_Extensions:</td>\n<td>Amazon S3, Algos, AutoML, Core V3, TargetEncoder, Core V4</td></tr>\n<tr><td>Python_version:</td>\n<td>3.8.5 final</td></tr></table></div>"
     },
     "metadata": {}
    }
   ],
   "source": [
    "\n",
    "# Import libraries \n",
    "import os\n",
    "import h2o\n",
    "import matplotlib as plt\n",
    "%matplotlib inline\n",
    "\n",
    "# Import Estimators\n",
    "from h2o.estimators.deeplearning import H2ODeepLearningEstimator as H2ODL \n",
    "from h2o.estimators import H2OXGBoostEstimator as H2OXGB \n",
    "import h2o.grid\n",
    "from h2o.grid.grid_search import H2OGridSearch\n",
    "\n",
    "# Start cluster\n",
    "h2o.init()"
   ]
  },
  {
   "cell_type": "code",
   "execution_count": 2,
   "metadata": {},
   "outputs": [
    {
     "output_type": "error",
     "ename": "SyntaxError",
     "evalue": "invalid syntax (&lt;ipython-input-2-b8193dcab7f3&gt;, line 2)",
     "traceback": [
      "\u001b[1;36m  File \u001b[1;32m&quot;&lt;ipython-input-2-b8193dcab7f3&gt;&quot;\u001b[1;36m, line \u001b[1;32m2\u001b[0m\n\u001b[1;33m    loan_level = h2o.import.file(&quot;https://s3.amazonaws.com/data.h2o.ai/DAI-Tutorials/loan_level_500k.csv&quot;)\u001b[0m\n\u001b[1;37m                     ^\u001b[0m\n\u001b[1;31mSyntaxError\u001b[0m\u001b[1;31m:\u001b[0m invalid syntax\n"
     ]
    }
   ],
   "source": [
    "# Import the dataset\n",
    "loan_level = h2o.import_file(\"https://s3.amazonaws.com/data.h2o.ai/DAI-Tutorials/loan_level_500k.csv\")"
   ]
  },
  {
   "cell_type": "code",
   "execution_count": null,
   "metadata": {},
   "outputs": [],
   "source": []
  }
 ]
}